{
 "cells": [
  {
   "cell_type": "code",
   "execution_count": 1,
   "id": "ebe2a90b",
   "metadata": {},
   "outputs": [],
   "source": [
    "import string\n",
    "import random\n",
    "import secrets"
   ]
  },
  {
   "cell_type": "code",
   "execution_count": 2,
   "id": "5b46f474",
   "metadata": {},
   "outputs": [],
   "source": [
    "length = 20\n",
    "special_characters = \"!@#$%^&*()-_=+[]{}|;:,.<>?/\""
   ]
  },
  {
   "cell_type": "code",
   "execution_count": 3,
   "id": "895c7ab2",
   "metadata": {},
   "outputs": [
    {
     "name": "stdout",
     "output_type": "stream",
     "text": [
      "MRAG!fUNu7elQ+cc3?;4\n"
     ]
    }
   ],
   "source": [
    "def gen(n=length, special=special_characters):\n",
    "    lower, upper, digits = string.ascii_lowercase, string.ascii_uppercase, string.digits\n",
    "    must = [secrets.choice(lower), secrets.choice(upper), secrets.choice(digits), secrets.choice(special)]\n",
    "    pool = lower + upper + digits + special\n",
    "    rest = [secrets.choice(pool) for _ in range(n - len(must))]\n",
    "    chars = must + rest\n",
    "    random.SystemRandom().shuffle(chars)\n",
    "    return ''.join(chars)\n",
    "print(gen())\n"
   ]
  },
  {
   "cell_type": "code",
   "execution_count": null,
   "id": "09676b7d",
   "metadata": {},
   "outputs": [],
   "source": []
  }
 ],
 "metadata": {
  "kernelspec": {
   "display_name": "Python 3",
   "language": "python",
   "name": "python3"
  },
  "language_info": {
   "codemirror_mode": {
    "name": "ipython",
    "version": 3
   },
   "file_extension": ".py",
   "mimetype": "text/x-python",
   "name": "python",
   "nbconvert_exporter": "python",
   "pygments_lexer": "ipython3",
   "version": "3.13.1"
  }
 },
 "nbformat": 4,
 "nbformat_minor": 5
}
